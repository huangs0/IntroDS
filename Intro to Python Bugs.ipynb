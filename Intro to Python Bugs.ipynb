{
 "cells": [
  {
   "cell_type": "markdown",
   "id": "27b7f3e6",
   "metadata": {},
   "source": [
    "# Introduction to Python Bugs\n",
    "Huang Songlin\n",
    "\n",
    "这是Python入门的最基础教程，将会带领大家学会：\n",
    "1. 缩进\n",
    "2. 逻辑\n",
    "3. 函数\n",
    "4. 对象\n",
    "5. 测试"
   ]
  },
  {
   "cell_type": "markdown",
   "id": "ed2904d3",
   "metadata": {},
   "source": [
    "编程的核心是对于数据的操纵，转换和输出。而最最开始，我们需要将数据赋给一个变量方便我们做调用。作为一门流行的编程语言，Python提供了简单易懂的API让我们实现这一切，只需要一个`=`即可"
   ]
  },
  {
   "cell_type": "code",
   "execution_count": 1,
   "id": "4ab0494a",
   "metadata": {},
   "outputs": [],
   "source": [
    "# 这个例子里我们想将1这个值赋给a这个变量\n",
    "a = 1"
   ]
  },
  {
   "cell_type": "markdown",
   "id": "8fd5cd96",
   "metadata": {},
   "source": [
    "接下来我们就可以调用`a`这个变量进行操作了，比如我们让a变为它的两倍"
   ]
  },
  {
   "cell_type": "code",
   "execution_count": 3,
   "id": "8202254a",
   "metadata": {},
   "outputs": [
    {
     "data": {
      "text/plain": [
       "4"
      ]
     },
     "execution_count": 3,
     "metadata": {},
     "output_type": "execute_result"
    }
   ],
   "source": [
    "2 * a"
   ]
  },
  {
   "cell_type": "markdown",
   "id": "8783d47d",
   "metadata": {},
   "source": [
    "当然事情不会这么简单，在日常的生活里，`=`经常被用来做比较的操作，比如在数学里我们有等式和方程，如何将等号的“赋值”和“比较”两个含义相分开呢？ 我们使用简单的堆叠，也即我们定义两个连续的等号被用来做比较，而单个等号则被用来做赋值。对于比较，我们还定一个了一些常见的不等式操作，如：\n",
    "* `!=` 表示不等于\n",
    "* `>=` `<=` 表示大于等于和小于等于\n",
    "\n",
    "等式返回的结果应该是一个简单的Yes or No，也即是真的等于，还是假的等于。因为这样对错分明的操作在Python中最为常见，因此我们定义了专门的两个值`True`和`False`用来表示。\n",
    "\n",
    "Python里，英文的大小写是严格区分的，也即我们会认为`A`与`a`是两个不同的事物，因此，请注意`true`和`false`在Python并不是表达正确或者错误的值！！！\n",
    "\n",
    "如果再被抓到拼写错误，就等着被打吧"
   ]
  },
  {
   "cell_type": "code",
   "execution_count": 4,
   "id": "380f8214",
   "metadata": {},
   "outputs": [
    {
     "data": {
      "text/plain": [
       "2"
      ]
     },
     "metadata": {},
     "output_type": "display_data"
    },
    {
     "data": {
      "text/plain": [
       "False"
      ]
     },
     "metadata": {},
     "output_type": "display_data"
    }
   ],
   "source": [
    "# Difference between a = 1 and a == 1\n",
    "display(a)\n",
    "display(a = 1)\n",
    "display(a == 1)"
   ]
  },
  {
   "cell_type": "markdown",
   "id": "58f99792",
   "metadata": {},
   "source": [
    "为什么第二行没有输出？因为`a = 1`这样的赋值语句就只是赋值，没有任何输出。\n",
    "\n",
    "而第三行`a == 1`是将a与1做了比较，因为此时a是2，所以结果就是False\n",
    "\n",
    "我们可以看下如果把True写成true会发生什么"
   ]
  },
  {
   "cell_type": "code",
   "execution_count": 5,
   "id": "f8f7066c",
   "metadata": {},
   "outputs": [
    {
     "ename": "NameError",
     "evalue": "name 'true' is not defined",
     "output_type": "error",
     "traceback": [
      "\u001b[0;31m---------------------------------------------------------------------------\u001b[0m",
      "\u001b[0;31mNameError\u001b[0m                                 Traceback (most recent call last)",
      "\u001b[0;32m<ipython-input-5-c100e6034b0a>\u001b[0m in \u001b[0;36m<module>\u001b[0;34m\u001b[0m\n\u001b[0;32m----> 1\u001b[0;31m \u001b[0ma\u001b[0m \u001b[0;34m=\u001b[0m \u001b[0mtrue\u001b[0m\u001b[0;34m\u001b[0m\u001b[0;34m\u001b[0m\u001b[0m\n\u001b[0m",
      "\u001b[0;31mNameError\u001b[0m: name 'true' is not defined"
     ]
    }
   ],
   "source": [
    "a = true"
   ]
  },
  {
   "cell_type": "code",
   "execution_count": 6,
   "id": "fc99d732",
   "metadata": {},
   "outputs": [],
   "source": [
    "a = True\n",
    "# 这样就不会报错"
   ]
  },
  {
   "cell_type": "markdown",
   "id": "d10fd925",
   "metadata": {},
   "source": [
    "此时我们发现，其实我们可以把True or False（称为布尔值 Bool）赋给a，这个原本是数字的量。这是因为Python是一门动态类型语言，它的每一个变量都可以被赋予不同类型的变量，比如数字，比如字符串，比如Bool。这给我们的编程引入了更多的可能性，但是也带来了诸多隐患，比如我们可以试想一下，对于数字我们可以乘方，但是对于字符串，我们可以乘方吗？也就是说，其实每个类型所支持的方法和操作并不相同，强行进行不支持的操作会带来类型错误`TypeError`"
   ]
  },
  {
   "cell_type": "code",
   "execution_count": 7,
   "id": "dfb0532b",
   "metadata": {},
   "outputs": [
    {
     "ename": "TypeError",
     "evalue": "unsupported operand type(s) for ** or pow(): 'str' and 'int'",
     "output_type": "error",
     "traceback": [
      "\u001b[0;31m---------------------------------------------------------------------------\u001b[0m",
      "\u001b[0;31mTypeError\u001b[0m                                 Traceback (most recent call last)",
      "\u001b[0;32m<ipython-input-7-b266f8e1c588>\u001b[0m in \u001b[0;36m<module>\u001b[0;34m\u001b[0m\n\u001b[1;32m      2\u001b[0m \u001b[0ma\u001b[0m \u001b[0;34m=\u001b[0m \u001b[0;34m\"Hello World\"\u001b[0m\u001b[0;34m\u001b[0m\u001b[0;34m\u001b[0m\u001b[0m\n\u001b[1;32m      3\u001b[0m \u001b[0;34m\u001b[0m\u001b[0m\n\u001b[0;32m----> 4\u001b[0;31m \u001b[0ma\u001b[0m \u001b[0;34m**\u001b[0m \u001b[0;36m2\u001b[0m\u001b[0;34m\u001b[0m\u001b[0;34m\u001b[0m\u001b[0m\n\u001b[0m",
      "\u001b[0;31mTypeError\u001b[0m: unsupported operand type(s) for ** or pow(): 'str' and 'int'"
     ]
    }
   ],
   "source": [
    "# a is a string\n",
    "a = \"Hello World\"\n",
    "\n",
    "a ** 2"
   ]
  },
  {
   "cell_type": "markdown",
   "id": "e008bee2",
   "metadata": {},
   "source": [
    "因此，对于复杂的Python代码，对变量的类型进行检查是一件非常重要的事情，Python为我们提供了简单的`type()` API"
   ]
  },
  {
   "cell_type": "code",
   "execution_count": 10,
   "id": "71386b3c",
   "metadata": {},
   "outputs": [
    {
     "data": {
      "text/plain": [
       "int"
      ]
     },
     "metadata": {},
     "output_type": "display_data"
    },
    {
     "data": {
      "text/plain": [
       "str"
      ]
     },
     "metadata": {},
     "output_type": "display_data"
    },
    {
     "data": {
      "text/plain": [
       "bool"
      ]
     },
     "metadata": {},
     "output_type": "display_data"
    }
   ],
   "source": [
    "# a is an integer\n",
    "a = 1\n",
    "display(type(a))\n",
    "# a is a string\n",
    "a = \"Hello\"\n",
    "display(type(a))\n",
    "# a is a Bool\n",
    "a = True\n",
    "display(type(a))"
   ]
  },
  {
   "cell_type": "markdown",
   "id": "38f2c5b6",
   "metadata": {},
   "source": [
    "我们还可以将一些比较复杂的数据结构赋值给变量，比如说list, tuple"
   ]
  },
  {
   "cell_type": "code",
   "execution_count": 11,
   "id": "129260c9",
   "metadata": {},
   "outputs": [
    {
     "data": {
      "text/plain": [
       "list"
      ]
     },
     "metadata": {},
     "output_type": "display_data"
    },
    {
     "data": {
      "text/plain": [
       "tuple"
      ]
     },
     "metadata": {},
     "output_type": "display_data"
    }
   ],
   "source": [
    "# Use [] to define a list\n",
    "a = [1, 2, 3]\n",
    "display(type(a))\n",
    "# Use () to define a tuple\n",
    "b = (1, 2, 3)\n",
    "display(type(b))"
   ]
  },
  {
   "cell_type": "markdown",
   "id": "b901b16d",
   "metadata": {},
   "source": [
    "这两个数据结构可以理解为Python中将多个值打包在一起的一个盒子，我们可以使用`[index]`对其中的内容进行索引，以及更高级的切片\n",
    "\n",
    "这里有一个计算机领域非常著名的梗：CS人都是从0开始数数的。请注意，在Python里，我们是从0而非从1开始数数的，也就是我们得用`a[0]`来索引第1个内容物。这就将带来一个经典的Bug：`IndexError: List Index Out Of Range`，试想我们有一个长度为3的list，记为a，我们想得到第三个元素，很直接的你会写出`a[3]`，但是由于计算机从0开始数数，所以最大有效索引为2而非3，这就将带来Index Out Of range的错误"
   ]
  },
  {
   "cell_type": "code",
   "execution_count": 12,
   "id": "a7a88bc0",
   "metadata": {},
   "outputs": [
    {
     "ename": "IndexError",
     "evalue": "list index out of range",
     "output_type": "error",
     "traceback": [
      "\u001b[0;31m---------------------------------------------------------------------------\u001b[0m",
      "\u001b[0;31mIndexError\u001b[0m                                Traceback (most recent call last)",
      "\u001b[0;32m<ipython-input-12-8418843c0107>\u001b[0m in \u001b[0;36m<module>\u001b[0;34m\u001b[0m\n\u001b[1;32m      1\u001b[0m \u001b[0ma\u001b[0m \u001b[0;34m=\u001b[0m \u001b[0;34m[\u001b[0m\u001b[0;36m0\u001b[0m\u001b[0;34m,\u001b[0m \u001b[0;36m1\u001b[0m\u001b[0;34m,\u001b[0m \u001b[0;36m2\u001b[0m\u001b[0;34m]\u001b[0m\u001b[0;34m\u001b[0m\u001b[0;34m\u001b[0m\u001b[0m\n\u001b[0;32m----> 2\u001b[0;31m \u001b[0ma\u001b[0m\u001b[0;34m[\u001b[0m\u001b[0;36m3\u001b[0m\u001b[0;34m]\u001b[0m\u001b[0;34m\u001b[0m\u001b[0;34m\u001b[0m\u001b[0m\n\u001b[0m",
      "\u001b[0;31mIndexError\u001b[0m: list index out of range"
     ]
    }
   ],
   "source": [
    "a = [0, 1, 2]\n",
    "a[3]"
   ]
  },
  {
   "cell_type": "markdown",
   "id": "3b2a0d0b",
   "metadata": {},
   "source": [
    "为了解决这个错误，你需要经常查看目前list的长度，Python提供了简单的`len()` API\n",
    "\n",
    "当然，Python提供了便利索引最后一个元素的方法：`a[-1]`，负数索引能倒序的查看元素"
   ]
  },
  {
   "cell_type": "code",
   "execution_count": 13,
   "id": "edb45f49",
   "metadata": {},
   "outputs": [
    {
     "data": {
      "text/plain": [
       "3"
      ]
     },
     "metadata": {},
     "output_type": "display_data"
    },
    {
     "data": {
      "text/plain": [
       "2"
      ]
     },
     "metadata": {},
     "output_type": "display_data"
    }
   ],
   "source": [
    "display(len(a))\n",
    "display(a[-1])"
   ]
  },
  {
   "cell_type": "markdown",
   "id": "2b1c2c98",
   "metadata": {},
   "source": [
    "另一个有趣的语法糖（就是那些能让你少写几行代码的技巧）是auto-packing和auto-unpacking，它常被用于赋值语句中，比如以下这个小例子：将a和b的值反转"
   ]
  },
  {
   "cell_type": "code",
   "execution_count": 15,
   "id": "41b00e00",
   "metadata": {},
   "outputs": [
    {
     "name": "stdout",
     "output_type": "stream",
     "text": [
      "1 2\n",
      "2 1\n"
     ]
    }
   ],
   "source": [
    "a = 1\n",
    "b = 2\n",
    "print(a, b)\n",
    "a, b = b, a\n",
    "print(a, b)"
   ]
  },
  {
   "cell_type": "markdown",
   "id": "da67a6cb",
   "metadata": {},
   "source": [
    "这个小例子背后的原理是：\n",
    "1. 在赋值语句的右侧，`b, a`其实会被自动打包成上述的tuple\n",
    "2. 在赋值语句的左侧，面对右侧传出的tuple，`a, b`会自动将tuple解包成两个内容a和b，并进行直接赋值\n",
    "\n",
    "我们可以利用这个原理做多个变量的一次性赋值，这样就不用写很多行"
   ]
  },
  {
   "cell_type": "code",
   "execution_count": 17,
   "id": "32414e91",
   "metadata": {},
   "outputs": [
    {
     "name": "stdout",
     "output_type": "stream",
     "text": [
      "1 2 3\n"
     ]
    }
   ],
   "source": [
    "a, b, c = 1, 2, 3\n",
    "print(a, b, c)"
   ]
  },
  {
   "cell_type": "markdown",
   "id": "315d80d3",
   "metadata": {},
   "source": [
    "当然auto-packing和auto-unpacking也会带来错误，我们试想一下，如果左侧解包的元素和右侧封包的元素不同会发生什么，比如`a, b, c = 1, 2`此时从右侧传来的包只有两个元素，左侧解包却需要赋值给三个元素，这样肯定会出现错误，就是`ValueError: not enough values to unpack`"
   ]
  },
  {
   "cell_type": "code",
   "execution_count": 18,
   "id": "48db168e",
   "metadata": {},
   "outputs": [
    {
     "ename": "ValueError",
     "evalue": "not enough values to unpack (expected 3, got 2)",
     "output_type": "error",
     "traceback": [
      "\u001b[0;31m---------------------------------------------------------------------------\u001b[0m",
      "\u001b[0;31mValueError\u001b[0m                                Traceback (most recent call last)",
      "\u001b[0;32m<ipython-input-18-9dbc59cfd6c6>\u001b[0m in \u001b[0;36m<module>\u001b[0;34m\u001b[0m\n\u001b[0;32m----> 1\u001b[0;31m \u001b[0ma\u001b[0m\u001b[0;34m,\u001b[0m \u001b[0mb\u001b[0m\u001b[0;34m,\u001b[0m \u001b[0mc\u001b[0m \u001b[0;34m=\u001b[0m \u001b[0;36m1\u001b[0m\u001b[0;34m,\u001b[0m \u001b[0;36m2\u001b[0m\u001b[0;34m\u001b[0m\u001b[0;34m\u001b[0m\u001b[0m\n\u001b[0m",
      "\u001b[0;31mValueError\u001b[0m: not enough values to unpack (expected 3, got 2)"
     ]
    }
   ],
   "source": [
    "a, b, c = 1, 2"
   ]
  },
  {
   "cell_type": "markdown",
   "id": "48823dcf",
   "metadata": {},
   "source": [
    "解决这个问题的思路是，先不使用unpack，先将封包的内容放置在一个变量中，然后使用`len()`查看到底有几个元素封包。\n",
    "\n",
    "好吧正确的解法是看报错信息"
   ]
  },
  {
   "cell_type": "code",
   "execution_count": 19,
   "id": "d10230e7",
   "metadata": {},
   "outputs": [
    {
     "data": {
      "text/plain": [
       "2"
      ]
     },
     "execution_count": 19,
     "metadata": {},
     "output_type": "execute_result"
    }
   ],
   "source": [
    "a = 1, 2\n",
    "len(a)"
   ]
  },
  {
   "cell_type": "markdown",
   "id": "0df57d83",
   "metadata": {},
   "source": [
    "封包与解包最常用的地方是用于函数返回值的传递，可以实现多个值的同时返回，当然这也是最容易报上面这个错误的地方\n",
    "\n",
    "那么所谓函数，到底是什么呢？ 和数学上的函数一样，函数是一个黑箱子，它会接受一些输入，然后返回一些输出，它输入的是parameters，也叫参数，返回的是return，也即结果，函数的意义在于我们可以将常用的代码封装到一起，方便我们多次调用\n",
    "\n",
    "要定义函数，我们会使用`def function_name(params):`的语法"
   ]
  },
  {
   "cell_type": "code",
   "execution_count": 20,
   "id": "00d674f0",
   "metadata": {},
   "outputs": [],
   "source": [
    "def square(x):\n",
    "    return x ** 2"
   ]
  },
  {
   "cell_type": "markdown",
   "id": "449ba7b6",
   "metadata": {},
   "source": [
    "接着，square就成为了我们的函数名，我们可以通过简单的`square()`去调用这个函数"
   ]
  },
  {
   "cell_type": "code",
   "execution_count": 21,
   "id": "bb50cbe0",
   "metadata": {},
   "outputs": [
    {
     "data": {
      "text/plain": [
       "4"
      ]
     },
     "execution_count": 21,
     "metadata": {},
     "output_type": "execute_result"
    }
   ],
   "source": [
    "square(2)"
   ]
  },
  {
   "cell_type": "markdown",
   "id": "2d231b60",
   "metadata": {},
   "source": [
    "其实我们还可以直接使用函数的名字来查看这个函数是否存在"
   ]
  },
  {
   "cell_type": "code",
   "execution_count": 23,
   "id": "32601a72",
   "metadata": {},
   "outputs": [
    {
     "data": {
      "text/plain": [
       "<function __main__.square(x)>"
      ]
     },
     "execution_count": 23,
     "metadata": {},
     "output_type": "execute_result"
    }
   ],
   "source": [
    "square"
   ]
  },
  {
   "cell_type": "markdown",
   "id": "b2e89c8e",
   "metadata": {},
   "source": [
    "我们可以发现，输出了一个和函数的定义那行极其相似的东西，这表明函数已经被定义了\n",
    "\n",
    "有趣的一点是，函数是有类型的，它的类型是`function`，这说明函数也是变量"
   ]
  },
  {
   "cell_type": "code",
   "execution_count": 24,
   "id": "9d08054e",
   "metadata": {},
   "outputs": [
    {
     "data": {
      "text/plain": [
       "function"
      ]
     },
     "execution_count": 24,
     "metadata": {},
     "output_type": "execute_result"
    }
   ],
   "source": [
    "type(square)"
   ]
  },
  {
   "cell_type": "code",
   "execution_count": 25,
   "id": "b05f337f",
   "metadata": {},
   "outputs": [
    {
     "ename": "TypeError",
     "evalue": "square() missing 1 required positional argument: 'x'",
     "output_type": "error",
     "traceback": [
      "\u001b[0;31m---------------------------------------------------------------------------\u001b[0m",
      "\u001b[0;31mTypeError\u001b[0m                                 Traceback (most recent call last)",
      "\u001b[0;32m<ipython-input-25-67e8141f4182>\u001b[0m in \u001b[0;36m<module>\u001b[0;34m\u001b[0m\n\u001b[0;32m----> 1\u001b[0;31m \u001b[0msquare\u001b[0m\u001b[0;34m(\u001b[0m\u001b[0;34m)\u001b[0m\u001b[0;34m\u001b[0m\u001b[0;34m\u001b[0m\u001b[0m\n\u001b[0m",
      "\u001b[0;31mTypeError\u001b[0m: square() missing 1 required positional argument: 'x'"
     ]
    }
   ],
   "source": [
    "square()"
   ]
  },
  {
   "cell_type": "markdown",
   "id": "640cef75",
   "metadata": {},
   "source": [
    "上面的报错里，你应该会发现`square()`和`square`这两种写法是完全不同的，这是因为`function_name()`这种写法，在Python中的意思是你要调用这个方法，你要传入参数，得到结果，而如果没有()，直接写function_name，它的意思是调用函数这个变量，当然这没有什么意义。"
   ]
  },
  {
   "cell_type": "markdown",
   "id": "49e12d33",
   "metadata": {},
   "source": [
    "在函数的定义里，我们发现一个有趣的点，我们给的parameters是x，但是我们输入的却是2，可是在函数的实际调用的时候，我们发现，它返回了4(4 = 2 ** 2)，也就是说在函数之中，x=2，这就牵涉到函数的重要概念，形参和实参：\n",
    "* positional argument是你在函数定义行里写的变量名字，它在函数被调用时会被赋值为你传入的真正参数，可以在函数内使用\n",
    "* real argument是你在函数调用时向内穿入的真正参数，它的参数会在实际函数运算时，被赋予到行参之中，不会在函数内被调用"
   ]
  },
  {
   "cell_type": "markdown",
   "id": "b9482cbd",
   "metadata": {},
   "source": [
    "在写函数的过程中，我们会发现一个有趣的点，在写完`def square(x):`并打下回车之后，我们的下一行代码自动的被缩进了，虽然这是来自于编辑器的帮助，但是为什么缩进会如此重要呢？\n",
    "\n",
    "缩进的意义在于让我们知道下一个代码块的边界在哪儿，试想一下，你在定义完一个square函数之后想在同一个代码块里运行，例如"
   ]
  },
  {
   "cell_type": "code",
   "execution_count": 26,
   "id": "f538060a",
   "metadata": {},
   "outputs": [
    {
     "data": {
      "text/plain": [
       "4"
      ]
     },
     "execution_count": 26,
     "metadata": {},
     "output_type": "execute_result"
    }
   ],
   "source": [
    "def square(x):\n",
    "    return x ** 2\n",
    "square(2)"
   ]
  },
  {
   "cell_type": "markdown",
   "id": "8a1d383a",
   "metadata": {},
   "source": [
    "如果没有缩进会发生什么？"
   ]
  },
  {
   "cell_type": "code",
   "execution_count": 27,
   "id": "4df3669b",
   "metadata": {},
   "outputs": [
    {
     "ename": "IndentationError",
     "evalue": "expected an indented block (<ipython-input-27-39f24ccd9a44>, line 2)",
     "output_type": "error",
     "traceback": [
      "\u001b[0;36m  File \u001b[0;32m\"<ipython-input-27-39f24ccd9a44>\"\u001b[0;36m, line \u001b[0;32m2\u001b[0m\n\u001b[0;31m    return x ** 2\u001b[0m\n\u001b[0m         ^\u001b[0m\n\u001b[0;31mIndentationError\u001b[0m\u001b[0;31m:\u001b[0m expected an indented block\n"
     ]
    }
   ],
   "source": [
    "def square(x):\n",
    "return x ** 2\n",
    "square(2)"
   ]
  },
  {
   "cell_type": "markdown",
   "id": "c9ae3dea",
   "metadata": {},
   "source": [
    "Python如何知道你的这个函数封装的代码是到`return x ** 2`这里截止还是继续到square(2)呢？\n",
    "\n",
    "当然这里我们可以使用`return`关键词做区分，但是如果对于逻辑控制语句呢？\n",
    "\n",
    "在编程中，很多时候我们需要对程序的走向作出控制，比如在`ReLU`函数里，我们需要在$x \\leq 0$的部分让输出为0，在$0 \\leq x$的部分让输出为x，比如如下代码"
   ]
  },
  {
   "cell_type": "code",
   "execution_count": null,
   "id": "b0fa083a",
   "metadata": {},
   "outputs": [],
   "source": [
    "if x < 0:\n",
    "    y = 0\n",
    "if x >= 0:\n",
    "    y = x"
   ]
  },
  {
   "cell_type": "markdown",
   "id": "2ad4b81e",
   "metadata": {},
   "source": [
    "此时如果没有缩进，Python知道你的这个if之后的代码块，将要走到哪一行停止吗？这就是缩进的意义。\n",
    "\n",
    "缩进带来的问题实在是过于庞大，以至于Python专门设置了一个`IndentationError`来处理这个报错可能，遇到这个错误，请检查你的代码缩进情况\n",
    "\n",
    "当然还有很多隐藏的缩进错误，比如因为缩进没有注意带来的函数多层嵌套\n",
    "\n",
    "下面这个例子里，我们想定义两个函数，a和d，但是由于没有注意缩进，我们写到了一起，这样会带来严重的错误"
   ]
  },
  {
   "cell_type": "code",
   "execution_count": 43,
   "id": "3cd9d63d",
   "metadata": {},
   "outputs": [],
   "source": [
    "def a(x):\n",
    "    def d(y):\n",
    "        return y"
   ]
  },
  {
   "cell_type": "code",
   "execution_count": 44,
   "id": "b2ecf3bc",
   "metadata": {},
   "outputs": [
    {
     "data": {
      "text/plain": [
       "<function __main__.a(x)>"
      ]
     },
     "execution_count": 44,
     "metadata": {},
     "output_type": "execute_result"
    }
   ],
   "source": [
    "a"
   ]
  },
  {
   "cell_type": "code",
   "execution_count": 45,
   "id": "3b76d57f",
   "metadata": {},
   "outputs": [
    {
     "ename": "NameError",
     "evalue": "name 'd' is not defined",
     "output_type": "error",
     "traceback": [
      "\u001b[0;31m---------------------------------------------------------------------------\u001b[0m",
      "\u001b[0;31mNameError\u001b[0m                                 Traceback (most recent call last)",
      "\u001b[0;32m<ipython-input-45-e983f374794d>\u001b[0m in \u001b[0;36m<module>\u001b[0;34m\u001b[0m\n\u001b[0;32m----> 1\u001b[0;31m \u001b[0md\u001b[0m\u001b[0;34m\u001b[0m\u001b[0;34m\u001b[0m\u001b[0m\n\u001b[0m",
      "\u001b[0;31mNameError\u001b[0m: name 'd' is not defined"
     ]
    }
   ],
   "source": [
    "d"
   ]
  },
  {
   "cell_type": "markdown",
   "id": "2e2ce5f3",
   "metadata": {},
   "source": [
    "如果你把函数放在另一个函数里定义，那么这个函数其实你是无法访问到的！这会带来`NameError`，这个错误来自于你没有去定义某个变量的名字就去索引它了，尝试找找你是不是没写赋值语句。"
   ]
  },
  {
   "cell_type": "markdown",
   "id": "aee18795",
   "metadata": {},
   "source": [
    "Python函数的定义隐藏了一个巨大的隐患，既然变量可以是多种类型的，但是函数其实对输入的变量并没有做任何的控制权，正如上面的`square`函数，我们无法控制传入的是字符串还是数字还是list，这会带来大量可能的，难以检查的隐藏Bugs，因为我们不知道这个函数期望什么样的输入，要解决这个问题，我们应该积极的查看函数的说明文档.\n",
    "\n",
    "大家一定要经常看的说明文档包括：\n",
    "* numpy: https://numpy.org/doc/stable/\n",
    "* seaborn: http://seaborn.pydata.org/api.html\n",
    "* pandas: https://pandas.pydata.org/docs/\n",
    "* torch: https://pytorch.org/docs/stable/index.html\n",
    "\n",
    "大家可以在这些页面的搜索框里搜索函数名称，查看对应的文档。\n",
    "\n",
    "诚然很多其他的教程也讲的很好，比如CSDN, Zhihu, Jianshu。但是只有官方开发者，也即那帮写函数的人写的文档，才能够保证最最精确以及及时。查其它文档的时候要注意发布时间，不要看什么2015年的教程"
   ]
  },
  {
   "cell_type": "markdown",
   "id": "4254169f",
   "metadata": {},
   "source": [
    "Python函数内还有一个有趣的特性，它是支持多返回值的，这个支持离不开上述的auto-pack和auto-unpack支持，例如下面这个例子："
   ]
  },
  {
   "cell_type": "code",
   "execution_count": 8,
   "id": "571ba3c9",
   "metadata": {},
   "outputs": [],
   "source": [
    "def reverse(a, b):\n",
    "    return b, a"
   ]
  },
  {
   "cell_type": "markdown",
   "id": "f47649a1",
   "metadata": {},
   "source": [
    "这样的多重返回值可以使用上述的auto-unpack语法来接受：`a, b = b, a`"
   ]
  },
  {
   "cell_type": "code",
   "execution_count": 9,
   "id": "5bef7c81",
   "metadata": {},
   "outputs": [
    {
     "name": "stdout",
     "output_type": "stream",
     "text": [
      "2 1\n"
     ]
    }
   ],
   "source": [
    "c, d = reverse(1, 2)\n",
    "print(c, d)"
   ]
  },
  {
   "cell_type": "markdown",
   "id": "dbe1c1b4",
   "metadata": {},
   "source": [
    "这样的多重返回值尤其容易出现`ValueError`，因为此时我们无法像`a, b = b, a`那样明确的知道到底这个函数会回传多少东西，我们应该留出多少位置来承载这些内容，比如下面这个例子：\n",
    "\n",
    "要解决这个问题，最好的是去查看函数的文档，如果是自己写的函数，应该去查看你的函数写法"
   ]
  },
  {
   "cell_type": "code",
   "execution_count": 10,
   "id": "56f7a3df",
   "metadata": {},
   "outputs": [
    {
     "ename": "ValueError",
     "evalue": "not enough values to unpack (expected 3, got 2)",
     "output_type": "error",
     "traceback": [
      "\u001b[0;31m---------------------------------------------------------------------------\u001b[0m",
      "\u001b[0;31mValueError\u001b[0m                                Traceback (most recent call last)",
      "\u001b[0;32m<ipython-input-10-8fa23368ed1d>\u001b[0m in \u001b[0;36m<module>\u001b[0;34m\u001b[0m\n\u001b[0;32m----> 1\u001b[0;31m \u001b[0ma\u001b[0m\u001b[0;34m,\u001b[0m \u001b[0mb\u001b[0m\u001b[0;34m,\u001b[0m \u001b[0mc\u001b[0m \u001b[0;34m=\u001b[0m \u001b[0mreverse\u001b[0m\u001b[0;34m(\u001b[0m\u001b[0;36m1\u001b[0m\u001b[0;34m,\u001b[0m \u001b[0;36m2\u001b[0m\u001b[0;34m)\u001b[0m\u001b[0;34m\u001b[0m\u001b[0;34m\u001b[0m\u001b[0m\n\u001b[0m",
      "\u001b[0;31mValueError\u001b[0m: not enough values to unpack (expected 3, got 2)"
     ]
    }
   ],
   "source": [
    "a, b, c = reverse(1, 2)"
   ]
  },
  {
   "cell_type": "markdown",
   "id": "7dfd7351",
   "metadata": {},
   "source": [
    "在jupyter中，我们有一个更简单的方式来做函数文档查询，只需要在函数名，也就是别加括号，后面打出？即可，比如说:\n",
    "\n",
    "请运行一下下面这个框"
   ]
  },
  {
   "cell_type": "code",
   "execution_count": 14,
   "id": "d0e17817",
   "metadata": {},
   "outputs": [],
   "source": [
    "len?"
   ]
  },
  {
   "cell_type": "markdown",
   "id": "2534aaa8",
   "metadata": {},
   "source": [
    "在之前，我们一直提到了一个重要的概念，类型。编程语言为什么需要设置类型？因为我们的信息有多种不同的形式，例如文字，例如数字，对于数字还有整数和小数之分。更加重要的是，不同类型的信息经常使用不同的处理方法，也就是不同的函数。而且特定的一些处理方法是和特定的数据类型相互绑定的，比如只有字符串需要做大小写，只有数字才需要加减乘除。因此，我们经常会将数据内容，数据类型和数据的处理方法这三者绑定起来，从下面这个例子里，我们可以看到这三者是如何被绑定的"
   ]
  },
  {
   "cell_type": "code",
   "execution_count": 15,
   "id": "9aa23118",
   "metadata": {},
   "outputs": [
    {
     "data": {
      "text/plain": [
       "1"
      ]
     },
     "execution_count": 15,
     "metadata": {},
     "output_type": "execute_result"
    }
   ],
   "source": [
    "# 1 is the data\n",
    "1"
   ]
  },
  {
   "cell_type": "code",
   "execution_count": 16,
   "id": "d1228d6d",
   "metadata": {},
   "outputs": [
    {
     "data": {
      "text/plain": [
       "int"
      ]
     },
     "execution_count": 16,
     "metadata": {},
     "output_type": "execute_result"
    }
   ],
   "source": [
    "# type is int\n",
    "type(1)"
   ]
  },
  {
   "cell_type": "code",
   "execution_count": 17,
   "id": "078701e7",
   "metadata": {},
   "outputs": [
    {
     "data": {
      "text/plain": [
       "['__abs__',\n",
       " '__add__',\n",
       " '__and__',\n",
       " '__bool__',\n",
       " '__ceil__',\n",
       " '__class__',\n",
       " '__delattr__',\n",
       " '__dir__',\n",
       " '__divmod__',\n",
       " '__doc__',\n",
       " '__eq__',\n",
       " '__float__',\n",
       " '__floor__',\n",
       " '__floordiv__',\n",
       " '__format__',\n",
       " '__ge__',\n",
       " '__getattribute__',\n",
       " '__getnewargs__',\n",
       " '__gt__',\n",
       " '__hash__',\n",
       " '__index__',\n",
       " '__init__',\n",
       " '__init_subclass__',\n",
       " '__int__',\n",
       " '__invert__',\n",
       " '__le__',\n",
       " '__lshift__',\n",
       " '__lt__',\n",
       " '__mod__',\n",
       " '__mul__',\n",
       " '__ne__',\n",
       " '__neg__',\n",
       " '__new__',\n",
       " '__or__',\n",
       " '__pos__',\n",
       " '__pow__',\n",
       " '__radd__',\n",
       " '__rand__',\n",
       " '__rdivmod__',\n",
       " '__reduce__',\n",
       " '__reduce_ex__',\n",
       " '__repr__',\n",
       " '__rfloordiv__',\n",
       " '__rlshift__',\n",
       " '__rmod__',\n",
       " '__rmul__',\n",
       " '__ror__',\n",
       " '__round__',\n",
       " '__rpow__',\n",
       " '__rrshift__',\n",
       " '__rshift__',\n",
       " '__rsub__',\n",
       " '__rtruediv__',\n",
       " '__rxor__',\n",
       " '__setattr__',\n",
       " '__sizeof__',\n",
       " '__str__',\n",
       " '__sub__',\n",
       " '__subclasshook__',\n",
       " '__truediv__',\n",
       " '__trunc__',\n",
       " '__xor__',\n",
       " 'bit_length',\n",
       " 'conjugate',\n",
       " 'denominator',\n",
       " 'from_bytes',\n",
       " 'imag',\n",
       " 'numerator',\n",
       " 'real',\n",
       " 'to_bytes']"
      ]
     },
     "execution_count": 17,
     "metadata": {},
     "output_type": "execute_result"
    }
   ],
   "source": [
    "# use dir to get the supported functions \n",
    "dir(1)"
   ]
  },
  {
   "cell_type": "markdown",
   "id": "d66ac882",
   "metadata": {},
   "source": [
    "下面这个基于list的例子则更为复杂"
   ]
  },
  {
   "cell_type": "code",
   "execution_count": 18,
   "id": "7c78a4f3",
   "metadata": {},
   "outputs": [
    {
     "data": {
      "text/plain": [
       "[1, 2]"
      ]
     },
     "execution_count": 18,
     "metadata": {},
     "output_type": "execute_result"
    }
   ],
   "source": [
    "# Value is [1, 2]\n",
    "[1, 2]"
   ]
  },
  {
   "cell_type": "code",
   "execution_count": 19,
   "id": "4dd83e7c",
   "metadata": {},
   "outputs": [
    {
     "data": {
      "text/plain": [
       "list"
      ]
     },
     "execution_count": 19,
     "metadata": {},
     "output_type": "execute_result"
    }
   ],
   "source": [
    "# Type is list\n",
    "type([1, 2])"
   ]
  },
  {
   "cell_type": "code",
   "execution_count": 20,
   "id": "327693bf",
   "metadata": {},
   "outputs": [
    {
     "data": {
      "text/plain": [
       "['__add__',\n",
       " '__class__',\n",
       " '__contains__',\n",
       " '__delattr__',\n",
       " '__delitem__',\n",
       " '__dir__',\n",
       " '__doc__',\n",
       " '__eq__',\n",
       " '__format__',\n",
       " '__ge__',\n",
       " '__getattribute__',\n",
       " '__getitem__',\n",
       " '__gt__',\n",
       " '__hash__',\n",
       " '__iadd__',\n",
       " '__imul__',\n",
       " '__init__',\n",
       " '__init_subclass__',\n",
       " '__iter__',\n",
       " '__le__',\n",
       " '__len__',\n",
       " '__lt__',\n",
       " '__mul__',\n",
       " '__ne__',\n",
       " '__new__',\n",
       " '__reduce__',\n",
       " '__reduce_ex__',\n",
       " '__repr__',\n",
       " '__reversed__',\n",
       " '__rmul__',\n",
       " '__setattr__',\n",
       " '__setitem__',\n",
       " '__sizeof__',\n",
       " '__str__',\n",
       " '__subclasshook__',\n",
       " 'append',\n",
       " 'clear',\n",
       " 'copy',\n",
       " 'count',\n",
       " 'extend',\n",
       " 'index',\n",
       " 'insert',\n",
       " 'pop',\n",
       " 'remove',\n",
       " 'reverse',\n",
       " 'sort']"
      ]
     },
     "execution_count": 20,
     "metadata": {},
     "output_type": "execute_result"
    }
   ],
   "source": [
    "# Use dir to get functions of object\n",
    "dir([1, 2])"
   ]
  },
  {
   "cell_type": "markdown",
   "id": "b91de5e0",
   "metadata": {},
   "source": [
    "我们将数据的内容，类型以及方法的封装称之为`object`对象，对象拥有数据，拥有类型名称，拥有对应的一系列方法，一些更为复杂的对象包括:\n",
    "* numpy.ndarray\n",
    "* pandas.DataFrame\n",
    "* matplotlib.plot\n",
    "* pytorch.nn.module\n",
    "\n",
    "这些都是开发者们为大家写好的一些经典对象，但是要如何写对象呢？我们能够单独为数据1写一个对象吗？单独为数据\"Hello World\"写一个对象？那我们将在无穷无尽的数据海中累死。在上述我们提过：特定的数据总是与某个类型相绑定，总是与某一些特定的方法相绑定。所以一个更好的解法是针对某个类型来写对象，但是这样我们无法得知在真正被创建的对象中，数据是什么（当然数据的类型要对），因此我们所书写的只是一个模版，所以我们专门起了一个新的名字`class`来区分真正的`object`和它的模版`class`。请注意`class`只是模版，要将class转化为具体的object，我们需要初始化，为什么？因为我们要传入真正的数据内容\n",
    "\n",
    "非常类似于我们之前探讨的，要完成一个类，我们需要提供三部分信息：\n",
    "1. 对象的类型是什么？我们可以简单的认为，类的名字就是通过这个类所创建的对象的类型名\n",
    "2. 对象要包含什么数据？我们可以在类的定义里，预留一些占位符来容纳信息，注意到这些信息需要在类被初始化的时候传入，所以我们这些占位符应该被放在一个在类初始化为对象时会运行的函数之中\n",
    "3. 对象要包含什么方法？我们在类的定义里去写这些函数的内容。但是这类函数相比于之前的函数，有一个小小的不同，我们会使用到对象所含有的数据，因此我们应该想办法将类中的函数与类相绑定起来"
   ]
  },
  {
   "cell_type": "code",
   "execution_count": 21,
   "id": "1672a001",
   "metadata": {},
   "outputs": [],
   "source": [
    "# 要建立一个类，使用class关键字\n",
    "class my_class():\n",
    "    # __init__函数就是那个在类初始化时会被运行的函数\n",
    "    def __init__(self, a, b):\n",
    "        # self就是那个把类中的东西与类本身相绑定的东西\n",
    "        # 通过将a和b加入到self.a和self.b中，我们完成了对象内含数据的添加\n",
    "        self.a = a\n",
    "        self.b = b\n",
    "        # 注意这里的a和b只是占位符，它还没有实际的数据，在初始化时，真正的数据会被传入\n",
    "    \n",
    "    # 直接在这里定义函数，这个函数即变为类中内涵的函数\n",
    "    # 请注意要使用类的内含变量，我们需要传入self作为函数的参数\n",
    "    def reverse(self):\n",
    "        # 这样就可以在其中使用self的内含变量了\n",
    "        return self.b, self.a"
   ]
  },
  {
   "cell_type": "markdown",
   "id": "1f06992a",
   "metadata": {},
   "source": [
    "接下来我们需要初始化这个类为对象，此时我们不需要自己运行`.__init__()`函数，只需要使用类的名字，比如上面这个`my_class`，使用一个类似函数的写法，来做类的初始化。\n",
    "\n",
    "注意到我们的`.__init__()`函数使用了两个变量，a和b，这意味着我们在初始化时也需要传入两个参数a和b，才可以进行"
   ]
  },
  {
   "cell_type": "code",
   "execution_count": 22,
   "id": "b0a26ed4",
   "metadata": {},
   "outputs": [],
   "source": [
    "my_object = my_class(1, 2)"
   ]
  },
  {
   "cell_type": "code",
   "execution_count": 23,
   "id": "c386a883",
   "metadata": {},
   "outputs": [
    {
     "ename": "TypeError",
     "evalue": "__init__() missing 2 required positional arguments: 'a' and 'b'",
     "output_type": "error",
     "traceback": [
      "\u001b[0;31m---------------------------------------------------------------------------\u001b[0m",
      "\u001b[0;31mTypeError\u001b[0m                                 Traceback (most recent call last)",
      "\u001b[0;32m<ipython-input-23-84d271e810cf>\u001b[0m in \u001b[0;36m<module>\u001b[0;34m\u001b[0m\n\u001b[1;32m      1\u001b[0m \u001b[0;31m# 这样则不行\u001b[0m\u001b[0;34m\u001b[0m\u001b[0;34m\u001b[0m\u001b[0;34m\u001b[0m\u001b[0m\n\u001b[0;32m----> 2\u001b[0;31m \u001b[0mmy_object\u001b[0m \u001b[0;34m=\u001b[0m \u001b[0mmy_class\u001b[0m\u001b[0;34m(\u001b[0m\u001b[0;34m)\u001b[0m\u001b[0;34m\u001b[0m\u001b[0;34m\u001b[0m\u001b[0m\n\u001b[0m",
      "\u001b[0;31mTypeError\u001b[0m: __init__() missing 2 required positional arguments: 'a' and 'b'"
     ]
    }
   ],
   "source": [
    "# 这样则不行\n",
    "my_object = my_class()"
   ]
  },
  {
   "cell_type": "markdown",
   "id": "089ef28e",
   "metadata": {},
   "source": [
    "从这个报错信息我们可以发现，其实类名这个函数还是去调用`.__init__()`这个函数的，所以一定要满足init函数的参数需求，类才会被创建\n",
    "\n",
    "接下来我们检查一下我们object的内含变量，类型名称，以及含有的函数名字\n",
    "\n",
    "要查看我们的内含变量，我们使用简单的`.`运算符"
   ]
  },
  {
   "cell_type": "code",
   "execution_count": 26,
   "id": "a93622ba",
   "metadata": {},
   "outputs": [
    {
     "data": {
      "text/plain": [
       "1"
      ]
     },
     "execution_count": 26,
     "metadata": {},
     "output_type": "execute_result"
    }
   ],
   "source": [
    "my_object.a"
   ]
  },
  {
   "cell_type": "code",
   "execution_count": 27,
   "id": "543eec24",
   "metadata": {},
   "outputs": [
    {
     "data": {
      "text/plain": [
       "2"
      ]
     },
     "execution_count": 27,
     "metadata": {},
     "output_type": "execute_result"
    }
   ],
   "source": [
    "my_object.b"
   ]
  },
  {
   "cell_type": "markdown",
   "id": "7a22fba2",
   "metadata": {},
   "source": [
    "别忘了函数也是变量！"
   ]
  },
  {
   "cell_type": "code",
   "execution_count": 28,
   "id": "c0fcb9d9",
   "metadata": {},
   "outputs": [
    {
     "data": {
      "text/plain": [
       "<bound method my_class.reverse of <__main__.my_class object at 0x7f77717e7e10>>"
      ]
     },
     "execution_count": 28,
     "metadata": {},
     "output_type": "execute_result"
    }
   ],
   "source": [
    "my_object.reverse"
   ]
  },
  {
   "cell_type": "markdown",
   "id": "0af9b6c4",
   "metadata": {},
   "source": [
    "请注意这里有一个奇怪的前缀：bound method，这是因为我们在类中定义了这个函数，这个函数被绑定到了这个class中，所以才有bound method\n",
    "\n",
    "别忘了，函数有一个重要的特性，它可以被调用！可以被用来处理数据！我们只需要添加`()`即可，所以也许大家会很奇怪于`[1, 2].append(3)`这样带.的函数调用，这其实只是因为append这个函数是被绑定到某一个特定的对象了，我们使用`.append`来调用这个函数变量，使用`.append()`来调用这个被绑定的函数"
   ]
  },
  {
   "cell_type": "code",
   "execution_count": 24,
   "id": "bd7b3d9d",
   "metadata": {},
   "outputs": [
    {
     "data": {
      "text/plain": [
       "__main__.my_class"
      ]
     },
     "execution_count": 24,
     "metadata": {},
     "output_type": "execute_result"
    }
   ],
   "source": [
    "type(my_object)"
   ]
  },
  {
   "cell_type": "markdown",
   "id": "7c613e44",
   "metadata": {},
   "source": [
    "正如上述所说的，对象的类型即是我们的类名"
   ]
  },
  {
   "cell_type": "code",
   "execution_count": 25,
   "id": "9bb39ddf",
   "metadata": {},
   "outputs": [
    {
     "data": {
      "text/plain": [
       "['__class__',\n",
       " '__delattr__',\n",
       " '__dict__',\n",
       " '__dir__',\n",
       " '__doc__',\n",
       " '__eq__',\n",
       " '__format__',\n",
       " '__ge__',\n",
       " '__getattribute__',\n",
       " '__gt__',\n",
       " '__hash__',\n",
       " '__init__',\n",
       " '__init_subclass__',\n",
       " '__le__',\n",
       " '__lt__',\n",
       " '__module__',\n",
       " '__ne__',\n",
       " '__new__',\n",
       " '__reduce__',\n",
       " '__reduce_ex__',\n",
       " '__repr__',\n",
       " '__setattr__',\n",
       " '__sizeof__',\n",
       " '__str__',\n",
       " '__subclasshook__',\n",
       " '__weakref__',\n",
       " 'a',\n",
       " 'b',\n",
       " 'reverse']"
      ]
     },
     "execution_count": 25,
     "metadata": {},
     "output_type": "execute_result"
    }
   ],
   "source": [
    "dir(my_object)"
   ]
  },
  {
   "cell_type": "markdown",
   "id": "6a0d4419",
   "metadata": {},
   "source": [
    "可以看到，我们的`reverse`函数就在最后，但这里，还有一大堆我们没有写的函数，这些函数来自哪里呢？\n",
    "\n",
    "这来自于继承inheritence的抽象关系。\n",
    "\n",
    "试想一下，我们想要初始化一只小黄鸭，那这只鸭子被捏了就会叫，他还是黄色的，他还有一个特点是卖萌，还会飞。此时还有一只小蓝鸭，它和小黄鸭唯一的区别是他是蓝色的，而他不会卖萌，会发火，当然它也会飞。我们可以实现两次这个类，但是这样你会发现代码有很大部分是重复的。"
   ]
  },
  {
   "cell_type": "code",
   "execution_count": null,
   "id": "9082408a",
   "metadata": {},
   "outputs": [],
   "source": [
    "class yellow_duck():\n",
    "    def __init__(self):\n",
    "        self.color = \"yellow\"\n",
    "        \n",
    "    def maimeng():\n",
    "        pass\n",
    "    \n",
    "    def fly():\n",
    "        pass\n",
    "    \n",
    "class blue_duck():\n",
    "    def __init__(self):\n",
    "        self.color = \"blue\"\n",
    "        \n",
    "    def fahuo():\n",
    "        pass\n",
    "    \n",
    "    def fly():\n",
    "        pass"
   ]
  },
  {
   "cell_type": "markdown",
   "id": "4cfbbfbf",
   "metadata": {},
   "source": [
    "还有一个更好的方法，我们定义一个鸭子类，含有一个内含变量color，这些鸭子都会飞，然后如果我们的小黄鸭和小蓝鸭都继承自这个类，这样我们就只需要拓展出两个新的函数fahuo()和maimeng()而不用再重复写fly()这个函数了。\n",
    "\n",
    "要实现继承，请在`class my_class(father_class):`类名后面的括号中写出继承的那个类"
   ]
  },
  {
   "cell_type": "code",
   "execution_count": 7,
   "id": "b72344e4",
   "metadata": {},
   "outputs": [],
   "source": [
    "class Duck():\n",
    "    def __init__(self, color):\n",
    "        self.color = color\n",
    "        \n",
    "    def fly():\n",
    "        pass"
   ]
  },
  {
   "cell_type": "markdown",
   "id": "0093ecb4",
   "metadata": {},
   "source": [
    "如果继承了某个类，我们需要先调用parent class的生成器，也即我们需要使用`super(new_class_name, self).__init__(parameters)`进行对父类生成器的调用，请在super()中传入新的类名以及`self`关键字，然后在`.__init__()`中向父类传入变量"
   ]
  },
  {
   "cell_type": "code",
   "execution_count": 14,
   "id": "2567ff7f",
   "metadata": {},
   "outputs": [],
   "source": [
    "class Yellow_Duck(Duck):\n",
    "    def __init__(self):\n",
    "        super(Yellow_Duck, self).__init__(\"yellow\")\n",
    "        \n",
    "    def maimeng():\n",
    "        pass"
   ]
  },
  {
   "cell_type": "code",
   "execution_count": 15,
   "id": "b36846ed",
   "metadata": {},
   "outputs": [],
   "source": [
    "class Blue_Duck(Duck):\n",
    "    def __init__(self):\n",
    "        super(Blue_Duck, self).__init__(\"blue\")\n",
    "        \n",
    "    def fahuo():\n",
    "        pass"
   ]
  },
  {
   "cell_type": "markdown",
   "id": "43ed6c87",
   "metadata": {},
   "source": [
    "在这里，我们初始化鸭子，小黄鸭和小蓝鸭来看看他们的特性"
   ]
  },
  {
   "cell_type": "code",
   "execution_count": 16,
   "id": "d636cecf",
   "metadata": {},
   "outputs": [],
   "source": [
    "duck = Duck(\"color\")\n",
    "yellow_duck = Yellow_Duck()\n",
    "blue_duck = Blue_Duck()"
   ]
  },
  {
   "cell_type": "code",
   "execution_count": 18,
   "id": "4dd78795",
   "metadata": {},
   "outputs": [
    {
     "data": {
      "text/plain": [
       "'color'"
      ]
     },
     "execution_count": 18,
     "metadata": {},
     "output_type": "execute_result"
    }
   ],
   "source": [
    "duck.color"
   ]
  },
  {
   "cell_type": "code",
   "execution_count": 21,
   "id": "961956e7",
   "metadata": {},
   "outputs": [
    {
     "name": "stdout",
     "output_type": "stream",
     "text": [
      "<class '__main__.Duck'>\n"
     ]
    }
   ],
   "source": [
    "print(type(duck))"
   ]
  },
  {
   "cell_type": "code",
   "execution_count": 20,
   "id": "6e4e09e9",
   "metadata": {},
   "outputs": [
    {
     "name": "stdout",
     "output_type": "stream",
     "text": [
      "['__class__', '__delattr__', '__dict__', '__dir__', '__doc__', '__eq__', '__format__', '__ge__', '__getattribute__', '__gt__', '__hash__', '__init__', '__init_subclass__', '__le__', '__lt__', '__module__', '__ne__', '__new__', '__reduce__', '__reduce_ex__', '__repr__', '__setattr__', '__sizeof__', '__str__', '__subclasshook__', '__weakref__', 'color', 'fly']\n"
     ]
    }
   ],
   "source": [
    "print(dir(duck))"
   ]
  },
  {
   "cell_type": "code",
   "execution_count": 22,
   "id": "6683415b",
   "metadata": {},
   "outputs": [
    {
     "data": {
      "text/plain": [
       "'yellow'"
      ]
     },
     "execution_count": 22,
     "metadata": {},
     "output_type": "execute_result"
    }
   ],
   "source": [
    "yellow_duck.color"
   ]
  },
  {
   "cell_type": "code",
   "execution_count": 23,
   "id": "85e63912",
   "metadata": {},
   "outputs": [
    {
     "name": "stdout",
     "output_type": "stream",
     "text": [
      "<class '__main__.Yellow_Duck'>\n"
     ]
    }
   ],
   "source": [
    "print(type(yellow_duck))"
   ]
  },
  {
   "cell_type": "code",
   "execution_count": 24,
   "id": "de923a51",
   "metadata": {},
   "outputs": [
    {
     "name": "stdout",
     "output_type": "stream",
     "text": [
      "['__class__', '__delattr__', '__dict__', '__dir__', '__doc__', '__eq__', '__format__', '__ge__', '__getattribute__', '__gt__', '__hash__', '__init__', '__init_subclass__', '__le__', '__lt__', '__module__', '__ne__', '__new__', '__reduce__', '__reduce_ex__', '__repr__', '__setattr__', '__sizeof__', '__str__', '__subclasshook__', '__weakref__', 'color', 'fly', 'maimeng']\n"
     ]
    }
   ],
   "source": [
    "print(dir(yellow_duck))"
   ]
  },
  {
   "cell_type": "code",
   "execution_count": 25,
   "id": "f4ed6078",
   "metadata": {},
   "outputs": [
    {
     "data": {
      "text/plain": [
       "'blue'"
      ]
     },
     "execution_count": 25,
     "metadata": {},
     "output_type": "execute_result"
    }
   ],
   "source": [
    "blue_duck.color"
   ]
  },
  {
   "cell_type": "code",
   "execution_count": 26,
   "id": "84f97b5d",
   "metadata": {},
   "outputs": [
    {
     "name": "stdout",
     "output_type": "stream",
     "text": [
      "<class '__main__.Blue_Duck'>\n"
     ]
    }
   ],
   "source": [
    "print(type(blue_duck))"
   ]
  },
  {
   "cell_type": "code",
   "execution_count": 27,
   "id": "49305928",
   "metadata": {},
   "outputs": [
    {
     "name": "stdout",
     "output_type": "stream",
     "text": [
      "['__class__', '__delattr__', '__dict__', '__dir__', '__doc__', '__eq__', '__format__', '__ge__', '__getattribute__', '__gt__', '__hash__', '__init__', '__init_subclass__', '__le__', '__lt__', '__module__', '__ne__', '__new__', '__reduce__', '__reduce_ex__', '__repr__', '__setattr__', '__sizeof__', '__str__', '__subclasshook__', '__weakref__', 'color', 'fahuo', 'fly']\n"
     ]
    }
   ],
   "source": [
    "print(dir(blue_duck))"
   ]
  },
  {
   "cell_type": "markdown",
   "id": "13a92e91",
   "metadata": {},
   "source": [
    "可以看到，这里blue_duck和yellow_duck里出现了fahuo和maimeng这些attribute。\n",
    "\n",
    "这就是为什么我们发现这些对象里有一大堆我们没有定义过的函数，因为所有类都继承自`object`类\n",
    "\n",
    "在类的定义中，Indentation这个概念非常非常重要，如果缩进出错，会直接导致类的定义不包含这个函数并导致一些有趣的错误，比如没有实现函数"
   ]
  },
  {
   "cell_type": "code",
   "execution_count": 28,
   "id": "57f4fed6",
   "metadata": {},
   "outputs": [],
   "source": [
    "class Duck():\n",
    "    def __init__(self, color):\n",
    "        self.color = color\n",
    "        \n",
    "def fly():\n",
    "    pass"
   ]
  },
  {
   "cell_type": "code",
   "execution_count": 30,
   "id": "33ccf46e",
   "metadata": {},
   "outputs": [],
   "source": [
    "duck = Duck(\"color\")"
   ]
  },
  {
   "cell_type": "code",
   "execution_count": 31,
   "id": "a53443fa",
   "metadata": {},
   "outputs": [
    {
     "name": "stdout",
     "output_type": "stream",
     "text": [
      "['__class__', '__delattr__', '__dict__', '__dir__', '__doc__', '__eq__', '__format__', '__ge__', '__getattribute__', '__gt__', '__hash__', '__init__', '__init_subclass__', '__le__', '__lt__', '__module__', '__ne__', '__new__', '__reduce__', '__reduce_ex__', '__repr__', '__setattr__', '__sizeof__', '__str__', '__subclasshook__', '__weakref__', 'color']\n"
     ]
    }
   ],
   "source": [
    "print(dir(duck))"
   ]
  },
  {
   "cell_type": "markdown",
   "id": "d5b58d23",
   "metadata": {},
   "source": [
    "此时你会发现没有fly()这个函数，因为它被定义在了类的外面"
   ]
  },
  {
   "cell_type": "code",
   "execution_count": 32,
   "id": "4d84e56f",
   "metadata": {},
   "outputs": [],
   "source": [
    "class Duck():\n",
    "    def __init__(self, color):\n",
    "        self.color = color\n",
    "        \n",
    "        def fly():\n",
    "            pass"
   ]
  },
  {
   "cell_type": "code",
   "execution_count": 34,
   "id": "a33bfae8",
   "metadata": {},
   "outputs": [],
   "source": [
    "duck = Duck(\"color\")"
   ]
  },
  {
   "cell_type": "code",
   "execution_count": 35,
   "id": "26b98274",
   "metadata": {},
   "outputs": [
    {
     "name": "stdout",
     "output_type": "stream",
     "text": [
      "['__class__', '__delattr__', '__dict__', '__dir__', '__doc__', '__eq__', '__format__', '__ge__', '__getattribute__', '__gt__', '__hash__', '__init__', '__init_subclass__', '__le__', '__lt__', '__module__', '__ne__', '__new__', '__reduce__', '__reduce_ex__', '__repr__', '__setattr__', '__sizeof__', '__str__', '__subclasshook__', '__weakref__', 'color']\n"
     ]
    }
   ],
   "source": [
    "print(dir(duck))"
   ]
  },
  {
   "cell_type": "markdown",
   "id": "5f56848f",
   "metadata": {},
   "source": [
    "这里也没有fly()函数，因为它被定义在了`__init__()`函数的里面"
   ]
  }
 ],
 "metadata": {
  "kernelspec": {
   "display_name": "Python 3",
   "language": "python",
   "name": "python3"
  },
  "language_info": {
   "codemirror_mode": {
    "name": "ipython",
    "version": 3
   },
   "file_extension": ".py",
   "mimetype": "text/x-python",
   "name": "python",
   "nbconvert_exporter": "python",
   "pygments_lexer": "ipython3",
   "version": "3.7.10"
  }
 },
 "nbformat": 4,
 "nbformat_minor": 5
}
